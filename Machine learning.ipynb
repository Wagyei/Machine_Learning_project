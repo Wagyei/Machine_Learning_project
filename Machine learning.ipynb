{
 "cells": [
  {
   "cell_type": "markdown",
   "metadata": {},
   "source": [
    "Members: Ambrose Blay (ab2838), Winifred Agyei(wa77)\n",
    "\n",
    "Understanding salary determinants is crucial in today's job market. In this study, we analyze how \"Gender,\" \"Age,\" \"Years of Experience,\" and \"Education Level\" influence salary levels. Leveraging machine learning algorithms, we aim to develop predictive models and assess feature importance. Our objectives include model evaluation, determining feature significance, and generating actionable insights for stakeholders. By uncovering the factors driving salary differentials,\n",
    "\n",
    "Data source: https://www.kaggle.com/datasets/rkiattisak/salaly-prediction-for-beginer?resource=download"
   ]
  },
  {
   "cell_type": "markdown",
   "metadata": {},
   "source": [
    "Import libraries"
   ]
  },
  {
   "cell_type": "code",
   "execution_count": 10,
   "metadata": {},
   "outputs": [],
   "source": [
    "import pandas as pd\n",
    "import numpy as np\n",
    "import matplotlib.pyplot as plt\n",
    "from sklearn.tree import DecisionTreeRegressor\n",
    "from sklearn.neighbors import KNeighborsClassifier\n",
    "from sklearn.model_selection import train_test_split\n",
    "from sklearn.linear_model import LogisticRegression, LinearRegression\n",
    "from sklearn.metrics import accuracy_score"
   ]
  },
  {
   "cell_type": "code",
   "execution_count": 11,
   "metadata": {},
   "outputs": [
    {
     "data": {
      "text/html": [
       "<div>\n",
       "<style scoped>\n",
       "    .dataframe tbody tr th:only-of-type {\n",
       "        vertical-align: middle;\n",
       "    }\n",
       "\n",
       "    .dataframe tbody tr th {\n",
       "        vertical-align: top;\n",
       "    }\n",
       "\n",
       "    .dataframe thead th {\n",
       "        text-align: right;\n",
       "    }\n",
       "</style>\n",
       "<table border=\"1\" class=\"dataframe\">\n",
       "  <thead>\n",
       "    <tr style=\"text-align: right;\">\n",
       "      <th></th>\n",
       "      <th>Age</th>\n",
       "      <th>Gender</th>\n",
       "      <th>Education Level</th>\n",
       "      <th>Job Title</th>\n",
       "      <th>Years of Experience</th>\n",
       "      <th>Salary</th>\n",
       "    </tr>\n",
       "  </thead>\n",
       "  <tbody>\n",
       "    <tr>\n",
       "      <th>0</th>\n",
       "      <td>32.0</td>\n",
       "      <td>Male</td>\n",
       "      <td>Bachelor's</td>\n",
       "      <td>Software Engineer</td>\n",
       "      <td>5.0</td>\n",
       "      <td>90000.0</td>\n",
       "    </tr>\n",
       "    <tr>\n",
       "      <th>1</th>\n",
       "      <td>28.0</td>\n",
       "      <td>Female</td>\n",
       "      <td>Master's</td>\n",
       "      <td>Data Analyst</td>\n",
       "      <td>3.0</td>\n",
       "      <td>65000.0</td>\n",
       "    </tr>\n",
       "    <tr>\n",
       "      <th>2</th>\n",
       "      <td>45.0</td>\n",
       "      <td>Male</td>\n",
       "      <td>PhD</td>\n",
       "      <td>Senior Manager</td>\n",
       "      <td>15.0</td>\n",
       "      <td>150000.0</td>\n",
       "    </tr>\n",
       "    <tr>\n",
       "      <th>3</th>\n",
       "      <td>36.0</td>\n",
       "      <td>Female</td>\n",
       "      <td>Bachelor's</td>\n",
       "      <td>Sales Associate</td>\n",
       "      <td>7.0</td>\n",
       "      <td>60000.0</td>\n",
       "    </tr>\n",
       "    <tr>\n",
       "      <th>4</th>\n",
       "      <td>52.0</td>\n",
       "      <td>Male</td>\n",
       "      <td>Master's</td>\n",
       "      <td>Director</td>\n",
       "      <td>20.0</td>\n",
       "      <td>200000.0</td>\n",
       "    </tr>\n",
       "  </tbody>\n",
       "</table>\n",
       "</div>"
      ],
      "text/plain": [
       "    Age  Gender Education Level          Job Title  Years of Experience  \\\n",
       "0  32.0    Male      Bachelor's  Software Engineer                  5.0   \n",
       "1  28.0  Female        Master's       Data Analyst                  3.0   \n",
       "2  45.0    Male             PhD     Senior Manager                 15.0   \n",
       "3  36.0  Female      Bachelor's    Sales Associate                  7.0   \n",
       "4  52.0    Male        Master's           Director                 20.0   \n",
       "\n",
       "     Salary  \n",
       "0   90000.0  \n",
       "1   65000.0  \n",
       "2  150000.0  \n",
       "3   60000.0  \n",
       "4  200000.0  "
      ]
     },
     "execution_count": 11,
     "metadata": {},
     "output_type": "execute_result"
    }
   ],
   "source": [
    "data = pd.read_csv(\"Salary Data.csv\")  # read the data\n",
    "\n",
    "data.head(5)  # head"
   ]
  },
  {
   "cell_type": "code",
   "execution_count": 12,
   "metadata": {},
   "outputs": [],
   "source": [
    "data[\"gender_code\"] = 0  # create dummy gender_code column\n",
    "data[\"education_code\"] = 0  # create dummy education_code column"
   ]
  },
  {
   "cell_type": "markdown",
   "metadata": {},
   "source": [
    "Our data has some features that are non-numerical. We decide to perform encoding on these columns to convert them to numerical values suitable for our ML models"
   ]
  },
  {
   "cell_type": "code",
   "execution_count": 13,
   "metadata": {},
   "outputs": [
    {
     "name": "stderr",
     "output_type": "stream",
     "text": [
      "/var/folders/j1/pkbl1l_d4sqbfwdlc58wv1qh0000gn/T/ipykernel_16141/510510610.py:4: SettingWithCopyWarning: \n",
      "A value is trying to be set on a copy of a slice from a DataFrame\n",
      "\n",
      "See the caveats in the documentation: https://pandas.pydata.org/pandas-docs/stable/user_guide/indexing.html#returning-a-view-versus-a-copy\n",
      "  data[\"gender_code\"][idx] = 1\n",
      "/var/folders/j1/pkbl1l_d4sqbfwdlc58wv1qh0000gn/T/ipykernel_16141/510510610.py:14: SettingWithCopyWarning: \n",
      "A value is trying to be set on a copy of a slice from a DataFrame\n",
      "\n",
      "See the caveats in the documentation: https://pandas.pydata.org/pandas-docs/stable/user_guide/indexing.html#returning-a-view-versus-a-copy\n",
      "  data[\"education_code\"][idx] = 0\n",
      "/var/folders/j1/pkbl1l_d4sqbfwdlc58wv1qh0000gn/T/ipykernel_16141/510510610.py:7: SettingWithCopyWarning: \n",
      "A value is trying to be set on a copy of a slice from a DataFrame\n",
      "\n",
      "See the caveats in the documentation: https://pandas.pydata.org/pandas-docs/stable/user_guide/indexing.html#returning-a-view-versus-a-copy\n",
      "  data[\"gender_code\"][idx] = 0\n",
      "/var/folders/j1/pkbl1l_d4sqbfwdlc58wv1qh0000gn/T/ipykernel_16141/510510610.py:12: SettingWithCopyWarning: \n",
      "A value is trying to be set on a copy of a slice from a DataFrame\n",
      "\n",
      "See the caveats in the documentation: https://pandas.pydata.org/pandas-docs/stable/user_guide/indexing.html#returning-a-view-versus-a-copy\n",
      "  data[\"education_code\"][idx] = 1\n",
      "/var/folders/j1/pkbl1l_d4sqbfwdlc58wv1qh0000gn/T/ipykernel_16141/510510610.py:10: SettingWithCopyWarning: \n",
      "A value is trying to be set on a copy of a slice from a DataFrame\n",
      "\n",
      "See the caveats in the documentation: https://pandas.pydata.org/pandas-docs/stable/user_guide/indexing.html#returning-a-view-versus-a-copy\n",
      "  data[\"education_code\"][idx] = 2\n"
     ]
    }
   ],
   "source": [
    "# Performing encoding on the Gender and Education Level columns.\n",
    "for idx in range(0, len(data)):\n",
    "    if data[\"Gender\"][idx] == \"Male\":\n",
    "        data[\"gender_code\"][idx] = 1\n",
    "        \n",
    "    elif data[\"Gender\"][idx] == \"Female\":\n",
    "        data[\"gender_code\"][idx] = 0\n",
    "        \n",
    "    if data[\"Education Level\"][idx] == \"PhD\":\n",
    "        data[\"education_code\"][idx] = 2\n",
    "    elif data[\"Education Level\"][idx] == \"Master's\":\n",
    "        data[\"education_code\"][idx] = 1\n",
    "    elif data[\"Education Level\"][idx] == \"Bachelor's\":\n",
    "        data[\"education_code\"][idx] = 0"
   ]
  },
  {
   "cell_type": "code",
   "execution_count": 14,
   "metadata": {},
   "outputs": [
    {
     "data": {
      "text/html": [
       "<div>\n",
       "<style scoped>\n",
       "    .dataframe tbody tr th:only-of-type {\n",
       "        vertical-align: middle;\n",
       "    }\n",
       "\n",
       "    .dataframe tbody tr th {\n",
       "        vertical-align: top;\n",
       "    }\n",
       "\n",
       "    .dataframe thead th {\n",
       "        text-align: right;\n",
       "    }\n",
       "</style>\n",
       "<table border=\"1\" class=\"dataframe\">\n",
       "  <thead>\n",
       "    <tr style=\"text-align: right;\">\n",
       "      <th></th>\n",
       "      <th>Age</th>\n",
       "      <th>Gender</th>\n",
       "      <th>Education Level</th>\n",
       "      <th>Job Title</th>\n",
       "      <th>Years of Experience</th>\n",
       "      <th>Salary</th>\n",
       "      <th>gender_code</th>\n",
       "      <th>education_code</th>\n",
       "    </tr>\n",
       "  </thead>\n",
       "  <tbody>\n",
       "    <tr>\n",
       "      <th>0</th>\n",
       "      <td>32.0</td>\n",
       "      <td>Male</td>\n",
       "      <td>Bachelor's</td>\n",
       "      <td>Software Engineer</td>\n",
       "      <td>5.0</td>\n",
       "      <td>90000.0</td>\n",
       "      <td>1</td>\n",
       "      <td>0</td>\n",
       "    </tr>\n",
       "    <tr>\n",
       "      <th>1</th>\n",
       "      <td>28.0</td>\n",
       "      <td>Female</td>\n",
       "      <td>Master's</td>\n",
       "      <td>Data Analyst</td>\n",
       "      <td>3.0</td>\n",
       "      <td>65000.0</td>\n",
       "      <td>0</td>\n",
       "      <td>1</td>\n",
       "    </tr>\n",
       "    <tr>\n",
       "      <th>2</th>\n",
       "      <td>45.0</td>\n",
       "      <td>Male</td>\n",
       "      <td>PhD</td>\n",
       "      <td>Senior Manager</td>\n",
       "      <td>15.0</td>\n",
       "      <td>150000.0</td>\n",
       "      <td>1</td>\n",
       "      <td>2</td>\n",
       "    </tr>\n",
       "    <tr>\n",
       "      <th>3</th>\n",
       "      <td>36.0</td>\n",
       "      <td>Female</td>\n",
       "      <td>Bachelor's</td>\n",
       "      <td>Sales Associate</td>\n",
       "      <td>7.0</td>\n",
       "      <td>60000.0</td>\n",
       "      <td>0</td>\n",
       "      <td>0</td>\n",
       "    </tr>\n",
       "    <tr>\n",
       "      <th>4</th>\n",
       "      <td>52.0</td>\n",
       "      <td>Male</td>\n",
       "      <td>Master's</td>\n",
       "      <td>Director</td>\n",
       "      <td>20.0</td>\n",
       "      <td>200000.0</td>\n",
       "      <td>1</td>\n",
       "      <td>1</td>\n",
       "    </tr>\n",
       "    <tr>\n",
       "      <th>...</th>\n",
       "      <td>...</td>\n",
       "      <td>...</td>\n",
       "      <td>...</td>\n",
       "      <td>...</td>\n",
       "      <td>...</td>\n",
       "      <td>...</td>\n",
       "      <td>...</td>\n",
       "      <td>...</td>\n",
       "    </tr>\n",
       "    <tr>\n",
       "      <th>370</th>\n",
       "      <td>35.0</td>\n",
       "      <td>Female</td>\n",
       "      <td>Bachelor's</td>\n",
       "      <td>Senior Marketing Analyst</td>\n",
       "      <td>8.0</td>\n",
       "      <td>85000.0</td>\n",
       "      <td>0</td>\n",
       "      <td>0</td>\n",
       "    </tr>\n",
       "    <tr>\n",
       "      <th>371</th>\n",
       "      <td>43.0</td>\n",
       "      <td>Male</td>\n",
       "      <td>Master's</td>\n",
       "      <td>Director of Operations</td>\n",
       "      <td>19.0</td>\n",
       "      <td>170000.0</td>\n",
       "      <td>1</td>\n",
       "      <td>1</td>\n",
       "    </tr>\n",
       "    <tr>\n",
       "      <th>372</th>\n",
       "      <td>29.0</td>\n",
       "      <td>Female</td>\n",
       "      <td>Bachelor's</td>\n",
       "      <td>Junior Project Manager</td>\n",
       "      <td>2.0</td>\n",
       "      <td>40000.0</td>\n",
       "      <td>0</td>\n",
       "      <td>0</td>\n",
       "    </tr>\n",
       "    <tr>\n",
       "      <th>373</th>\n",
       "      <td>34.0</td>\n",
       "      <td>Male</td>\n",
       "      <td>Bachelor's</td>\n",
       "      <td>Senior Operations Coordinator</td>\n",
       "      <td>7.0</td>\n",
       "      <td>90000.0</td>\n",
       "      <td>1</td>\n",
       "      <td>0</td>\n",
       "    </tr>\n",
       "    <tr>\n",
       "      <th>374</th>\n",
       "      <td>44.0</td>\n",
       "      <td>Female</td>\n",
       "      <td>PhD</td>\n",
       "      <td>Senior Business Analyst</td>\n",
       "      <td>15.0</td>\n",
       "      <td>150000.0</td>\n",
       "      <td>0</td>\n",
       "      <td>2</td>\n",
       "    </tr>\n",
       "  </tbody>\n",
       "</table>\n",
       "<p>373 rows × 8 columns</p>\n",
       "</div>"
      ],
      "text/plain": [
       "      Age  Gender Education Level                      Job Title  \\\n",
       "0    32.0    Male      Bachelor's              Software Engineer   \n",
       "1    28.0  Female        Master's                   Data Analyst   \n",
       "2    45.0    Male             PhD                 Senior Manager   \n",
       "3    36.0  Female      Bachelor's                Sales Associate   \n",
       "4    52.0    Male        Master's                       Director   \n",
       "..    ...     ...             ...                            ...   \n",
       "370  35.0  Female      Bachelor's       Senior Marketing Analyst   \n",
       "371  43.0    Male        Master's         Director of Operations   \n",
       "372  29.0  Female      Bachelor's         Junior Project Manager   \n",
       "373  34.0    Male      Bachelor's  Senior Operations Coordinator   \n",
       "374  44.0  Female             PhD        Senior Business Analyst   \n",
       "\n",
       "     Years of Experience    Salary  gender_code  education_code  \n",
       "0                    5.0   90000.0            1               0  \n",
       "1                    3.0   65000.0            0               1  \n",
       "2                   15.0  150000.0            1               2  \n",
       "3                    7.0   60000.0            0               0  \n",
       "4                   20.0  200000.0            1               1  \n",
       "..                   ...       ...          ...             ...  \n",
       "370                  8.0   85000.0            0               0  \n",
       "371                 19.0  170000.0            1               1  \n",
       "372                  2.0   40000.0            0               0  \n",
       "373                  7.0   90000.0            1               0  \n",
       "374                 15.0  150000.0            0               2  \n",
       "\n",
       "[373 rows x 8 columns]"
      ]
     },
     "execution_count": 14,
     "metadata": {},
     "output_type": "execute_result"
    }
   ],
   "source": [
    "data = data.dropna()  # drop the null values\n",
    "data"
   ]
  },
  {
   "cell_type": "markdown",
   "metadata": {},
   "source": [
    "We dropped some empty cells to make our predictions more accurate"
   ]
  },
  {
   "cell_type": "markdown",
   "metadata": {},
   "source": [
    "To determine which model would be perfect for project, we did some tests using LinearRegression and DecesionTreecRegressor. The model with the higher Test score will be the ideal model."
   ]
  },
  {
   "cell_type": "code",
   "execution_count": 15,
   "metadata": {},
   "outputs": [],
   "source": [
    "linear_model = LinearRegression()  # create linear regression model"
   ]
  },
  {
   "cell_type": "code",
   "execution_count": 16,
   "metadata": {},
   "outputs": [],
   "source": [
    "X = data[[\"Age\", \"Years of Experience\"]]\n",
    "Y = data[\"Salary\"]\n",
    "\n",
    "X_train, X_test, Y_train, Y_test = train_test_split(X, Y, test_size=0.33, random_state=1998)"
   ]
  },
  {
   "cell_type": "code",
   "execution_count": 17,
   "metadata": {},
   "outputs": [
    {
     "name": "stdout",
     "output_type": "stream",
     "text": [
      "Train Accuracy:  0.8476237892796669\n",
      "Test Accuracy:  0.9081994571705907\n"
     ]
    }
   ],
   "source": [
    "\n",
    "\n",
    "linear_model.fit(X_train, Y_train)\n",
    "\n",
    "predictions = linear_model.predict(X_test)\n",
    "\n",
    "print(\"Train Accuracy: \", linear_model.score(X_train, Y_train))\n",
    "print(\"Test Accuracy: \", linear_model.score(X_test, Y_test))\n"
   ]
  },
  {
   "cell_type": "code",
   "execution_count": 18,
   "metadata": {},
   "outputs": [],
   "source": [
    "tree_model = DecisionTreeRegressor(max_depth = 10)"
   ]
  },
  {
   "cell_type": "code",
   "execution_count": 19,
   "metadata": {},
   "outputs": [
    {
     "name": "stdout",
     "output_type": "stream",
     "text": [
      "Train Accuracy:  0.9386020271317328\n",
      "Test Accuracy:  0.8536765441907064\n"
     ]
    }
   ],
   "source": [
    "tree_model.fit(X_train, Y_train)\n",
    "\n",
    "print(\"Train Accuracy: \", tree_model.score(X_train, Y_train))\n",
    "print(\"Test Accuracy: \", tree_model.score(X_test, Y_test))\n"
   ]
  },
  {
   "cell_type": "markdown",
   "metadata": {},
   "source": [
    "Between the two models, the linear_model produces a higher Test Accuracy. It is therefore the better model. \n",
    "\n",
    "The next goal is to determine which of the features is the best predictor of a person's Salary using our Linear Regression model."
   ]
  },
  {
   "cell_type": "code",
   "execution_count": 28,
   "metadata": {},
   "outputs": [
    {
     "name": "stdout",
     "output_type": "stream",
     "text": [
      "0.8830917225977292\n"
     ]
    }
   ],
   "source": [
    "X_age = data[[\"Age\"]]  # using age as the feature\n",
    "\n",
    "X_age_train, X_age_test, Y_age_train, Y_age_test = train_test_split(X_age, Y, test_size=0.33, random_state=1998)\n",
    "\n",
    "linear_model.fit(X_age_train, Y_age_train)\n",
    "\n",
    "age_score = linear_model.score(X_age_test, Y_age_test)\n",
    "print(age_score)\n"
   ]
  },
  {
   "cell_type": "code",
   "execution_count": 27,
   "metadata": {},
   "outputs": [
    {
     "name": "stdout",
     "output_type": "stream",
     "text": [
      "0.9107637966171479\n"
     ]
    }
   ],
   "source": [
    "X_yoe = data[[\"Years of Experience\"]]  # using Years of Experience as the feature\n",
    "\n",
    "X_yoe_train, X_yoe_test, Y_yoe_train, Y_yoe_test = train_test_split(X_yoe, Y, test_size=0.33, random_state=1998)\n",
    "\n",
    "linear_model.fit(X_yoe_train, Y_yoe_train)\n",
    "\n",
    "yoe_predictions = linear_model.predict(X_yoe_test)\n",
    "\n",
    "yoe_score = linear_model.score(X_yoe_test, Y_yoe_test)\n",
    "print(yoe_score)"
   ]
  },
  {
   "cell_type": "code",
   "execution_count": 21,
   "metadata": {},
   "outputs": [
    {
     "name": "stdout",
     "output_type": "stream",
     "text": [
      "-0.008723061148893763\n"
     ]
    }
   ],
   "source": [
    "X_gender = data[[\"gender_code\"]]  # using Gender as the feature\n",
    "\n",
    "X_gender_train, X_gender_test, Y_gender_train, Y_gender_test = train_test_split(X_gender, Y, test_size=0.33, random_state=1998)\n",
    "\n",
    "linear_model.fit(X_gender_train, Y_gender_train)\n",
    "\n",
    "gender_score = linear_model.score(X_gender_test, Y_gender_test)\n",
    "print(gender_score)"
   ]
  },
  {
   "cell_type": "code",
   "execution_count": 29,
   "metadata": {},
   "outputs": [
    {
     "name": "stdout",
     "output_type": "stream",
     "text": [
      "0.37237567094261903\n"
     ]
    }
   ],
   "source": [
    "X_education = data[[\"education_code\"]]  # using Education Level as the feature\n",
    "\n",
    "X_education_train, X_education_test, Y_education_train, Y_education_test = train_test_split(X_education, Y, test_size=0.33, random_state=1998)\n",
    "\n",
    "linear_model.fit(X_education_train, Y_education_train)\n",
    "\n",
    "education_score = linear_model.score(X_education_test, Y_education_test)\n",
    "print(education_score)"
   ]
  },
  {
   "cell_type": "markdown",
   "metadata": {},
   "source": [
    "We then visualized which of our features is the best predictor for a person's Salary."
   ]
  },
  {
   "cell_type": "code",
   "execution_count": 30,
   "metadata": {},
   "outputs": [
    {
     "data": {
      "text/plain": [
       "Text(0, 0.5, 'Accuracy Score')"
      ]
     },
     "execution_count": 30,
     "metadata": {},
     "output_type": "execute_result"
    },
    {
     "data": {
      "image/png": "[encoded data removed]",
      "text/plain": [
       "<Figure size 640x480 with 1 Axes>"
      ]
     },
     "metadata": {},
     "output_type": "display_data"
    }
   ],
   "source": [
    "age_bar = age_score\n",
    "\n",
    "yoe_bar = yoe_score\n",
    "\n",
    "gender_bar = gender_score\n",
    "\n",
    "education_bar = education_score\n",
    "\n",
    "colors = [\"blue\", \"green\", \"yellow\", \"pink\"]\n",
    "plt.bar([0,1,2,3],[age_bar, yoe_bar, gender_bar, education_bar], color = colors)\n",
    "plt.xticks([0,1, 2, 3],['Age','Years of Experience', 'Gender', 'Education Level'])\n",
    "plt.title(\"A graph showing the scores of different features\")\n",
    "plt.ylabel('Accuracy Score')"
   ]
  },
  {
   "cell_type": "markdown",
   "metadata": {},
   "source": [
    "Gender has the lowest bearing on a person's Salary. It can be concluded that it has no influence on Salary.\n",
    "The best predictor for Salary is Years of Experience"
   ]
  },
  {
   "cell_type": "markdown",
   "metadata": {},
   "source": [
    "We then visualized how accurate our model is. "
   ]
  },
  {
   "cell_type": "code",
   "execution_count": 31,
   "metadata": {},
   "outputs": [
    {
     "data": {
      "image/png": "[encoded data removed]",
      "text/plain": [
       "<Figure size 640x480 with 1 Axes>"
      ]
     },
     "metadata": {},
     "output_type": "display_data"
    }
   ],
   "source": [
    "predictions = yoe_predictions\n",
    "\n",
    "plt.scatter(X_yoe_test, Y_yoe_test)\n",
    "plt.plot(X_yoe_test, predictions, 'k', linewidth=2)\n",
    "plt.legend([\"Actual Values\",\"Predictions\"])\n",
    "plt.title('Salary vs Years of Experience')\n",
    "plt.xlabel('Years of Experience')\n",
    "plt.ylabel('Salary')\n",
    "plt.show()"
   ]
  },
  {
   "cell_type": "code",
   "execution_count": 37,
   "metadata": {},
   "outputs": [
    {
     "data": {
      "text/html": [
       "<div>\n",
       "<style scoped>\n",
       "    .dataframe tbody tr th:only-of-type {\n",
       "        vertical-align: middle;\n",
       "    }\n",
       "\n",
       "    .dataframe tbody tr th {\n",
       "        vertical-align: top;\n",
       "    }\n",
       "\n",
       "    .dataframe thead th {\n",
       "        text-align: right;\n",
       "    }\n",
       "</style>\n",
       "<table border=\"1\" class=\"dataframe\">\n",
       "  <thead>\n",
       "    <tr style=\"text-align: right;\">\n",
       "      <th></th>\n",
       "      <th>Age</th>\n",
       "      <th>Gender</th>\n",
       "      <th>Education Level</th>\n",
       "      <th>Job Title</th>\n",
       "      <th>Years of Experience</th>\n",
       "      <th>Salary</th>\n",
       "      <th>gender_code</th>\n",
       "      <th>education_code</th>\n",
       "      <th>Total Years of Education</th>\n",
       "      <th>Total Years of Experience</th>\n",
       "    </tr>\n",
       "  </thead>\n",
       "  <tbody>\n",
       "    <tr>\n",
       "      <th>0</th>\n",
       "      <td>32.0</td>\n",
       "      <td>Male</td>\n",
       "      <td>Bachelor's</td>\n",
       "      <td>Software Engineer</td>\n",
       "      <td>5.0</td>\n",
       "      <td>90000.0</td>\n",
       "      <td>1</td>\n",
       "      <td>0</td>\n",
       "      <td>5.0</td>\n",
       "      <td>37.0</td>\n",
       "    </tr>\n",
       "    <tr>\n",
       "      <th>1</th>\n",
       "      <td>28.0</td>\n",
       "      <td>Female</td>\n",
       "      <td>Master's</td>\n",
       "      <td>Data Analyst</td>\n",
       "      <td>3.0</td>\n",
       "      <td>65000.0</td>\n",
       "      <td>0</td>\n",
       "      <td>1</td>\n",
       "      <td>4.0</td>\n",
       "      <td>31.0</td>\n",
       "    </tr>\n",
       "    <tr>\n",
       "      <th>2</th>\n",
       "      <td>45.0</td>\n",
       "      <td>Male</td>\n",
       "      <td>PhD</td>\n",
       "      <td>Senior Manager</td>\n",
       "      <td>15.0</td>\n",
       "      <td>150000.0</td>\n",
       "      <td>1</td>\n",
       "      <td>2</td>\n",
       "      <td>17.0</td>\n",
       "      <td>60.0</td>\n",
       "    </tr>\n",
       "    <tr>\n",
       "      <th>3</th>\n",
       "      <td>36.0</td>\n",
       "      <td>Female</td>\n",
       "      <td>Bachelor's</td>\n",
       "      <td>Sales Associate</td>\n",
       "      <td>7.0</td>\n",
       "      <td>60000.0</td>\n",
       "      <td>0</td>\n",
       "      <td>0</td>\n",
       "      <td>7.0</td>\n",
       "      <td>43.0</td>\n",
       "    </tr>\n",
       "    <tr>\n",
       "      <th>4</th>\n",
       "      <td>52.0</td>\n",
       "      <td>Male</td>\n",
       "      <td>Master's</td>\n",
       "      <td>Director</td>\n",
       "      <td>20.0</td>\n",
       "      <td>200000.0</td>\n",
       "      <td>1</td>\n",
       "      <td>1</td>\n",
       "      <td>21.0</td>\n",
       "      <td>72.0</td>\n",
       "    </tr>\n",
       "  </tbody>\n",
       "</table>\n",
       "</div>"
      ],
      "text/plain": [
       "    Age  Gender Education Level          Job Title  Years of Experience  \\\n",
       "0  32.0    Male      Bachelor's  Software Engineer                  5.0   \n",
       "1  28.0  Female        Master's       Data Analyst                  3.0   \n",
       "2  45.0    Male             PhD     Senior Manager                 15.0   \n",
       "3  36.0  Female      Bachelor's    Sales Associate                  7.0   \n",
       "4  52.0    Male        Master's           Director                 20.0   \n",
       "\n",
       "     Salary  gender_code  education_code  Total Years of Education  \\\n",
       "0   90000.0            1               0                       5.0   \n",
       "1   65000.0            0               1                       4.0   \n",
       "2  150000.0            1               2                      17.0   \n",
       "3   60000.0            0               0                       7.0   \n",
       "4  200000.0            1               1                      21.0   \n",
       "\n",
       "   Total Years of Experience  \n",
       "0                       37.0  \n",
       "1                       31.0  \n",
       "2                       60.0  \n",
       "3                       43.0  \n",
       "4                       72.0  "
      ]
     },
     "execution_count": 37,
     "metadata": {},
     "output_type": "execute_result"
    }
   ],
   "source": [
    "data[\"Total Years of Experience\"] = data[\"Age\"] + data[\"Years of Experience\"]\n",
    "\n",
    "data.head()"
   ]
  },
  {
   "cell_type": "code",
   "execution_count": 40,
   "metadata": {},
   "outputs": [
    {
     "name": "stdout",
     "output_type": "stream",
     "text": [
      "0.904968506633559\n"
     ]
    }
   ],
   "source": [
    "X_ya = data[[\"Total Years of Experience\"]]  # using Years of Experience plus education level as the feature\n",
    "\n",
    "X_ya_train, X_ya_test, Y_ya_train, Y_ya_test = train_test_split(X_ya, Y, test_size=0.33, random_state=1998)\n",
    "\n",
    "linear_model.fit(X_ya_train, Y_ya_train)\n",
    "\n",
    "ya_predictions = linear_model.predict(X_ya_test)\n",
    "\n",
    "ya_score = linear_model.score(X_ya_test, Y_ya_test)\n",
    "print(ya_score)"
   ]
  },
  {
   "cell_type": "markdown",
   "metadata": {},
   "source": [
    "Lastely we wanted to check if the sum of Education level and Age would give a higher prediction since they both had a higher prediction."
   ]
  },
  {
   "cell_type": "code",
   "execution_count": null,
   "metadata": {},
   "outputs": [],
   "source": [
    "After conducting our analysis, we've gathered insightful findings regarding the factors influencing salary levels in our dataset.\n",
    "Here are the key takeaways:\n",
    "    \n",
    "    1. Gender Impact: Gender exhibits a negligible effect on salaries, as indicated by the negative correlation \n",
    "    coefficient obtained from our linear regression model. This implies that gender does not significantly influence salary levels.\n",
    "    \n",
    "    2.Years of Experience and Age Significance: Both \"Years of Experience\" and \"Age\" demonstrate a substantial impact\n",
    "    on salary levels, with \"Years of Experience\" exhibiting the highest influence. This suggests that individuals with more\n",
    "    years of experience tend to command higher salaries, highlighting the importance of professional tenure in determining earning potential.\n",
    "\n",
    "    3.Total Years of Education Analysis: We hypothesized that combining \"Years of Experience\" with \"Age\" might yield a stronger predictor of salary \n",
    "    levels due to their individual significance. However, our analysis reveals that while the combined feature, \"Total Years of Experience,\" still \n",
    "    exhibits a strong positive correlation with salary levels, its predictive power is slightly lower than that of \"Years of Experience\" alone"
   ]
  }
 ],
 "metadata": {
  "kernelspec": {
   "display_name": "Python 3 (ipykernel)",
   "language": "python",
   "name": "python3"
  },
  "language_info": {
   "codemirror_mode": {
    "name": "ipython",
    "version": 3
   },
   "file_extension": ".py",
   "mimetype": "text/x-python",
   "name": "python",
   "nbconvert_exporter": "python",
   "pygments_lexer": "ipython3",
   "version": "3.11.4"
  }
 },
 "nbformat": 4,
 "nbformat_minor": 2
}
